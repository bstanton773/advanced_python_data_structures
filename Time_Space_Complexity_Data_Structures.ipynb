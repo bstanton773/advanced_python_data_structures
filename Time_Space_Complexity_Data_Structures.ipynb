{
 "cells": [
  {
   "cell_type": "markdown",
   "metadata": {},
   "source": [
    "# Time/Space Complexity - Intro to Data Structures (User Defined)\n",
    "\n",
    "### Topics to discuss today:\n",
    "\n",
    "<ul>\n",
    "    <li>Time and Space Complexity - What is it/How do we measure it</li>\n",
    "    <li>Asymptotic Analysis</li>\n",
    "    <li><strong>Data Structures</strong></li>\n",
    "    <li>Some of the popular sorting algorithms</li>\n",
    "</ul>\n",
    "\n",
    "### Data Structures to discuss:\n",
    "- Arrays\n",
    "- Stacks\n",
    "- Queues\n",
    "- Linked Lists\n",
    "    - Singly Linked Lists\n",
    "    - Traversing A Linked List\n",
    "    - Finding a node in a linked list\n",
    "    - Adding to a linked list\n",
    "- Binary Search Trees\n",
    "    - Construction\n",
    "    - Traversal\n"
   ]
  },
  {
   "cell_type": "markdown",
   "metadata": {},
   "source": [
    "## Time and Space Complexity\n",
    "\n",
    "#### What is it?\n",
    "\n",
    "Time and space complexity is the measure of how much time a given action(function) will take to solve a problem. In the same fashion, we determine how much a given data structure will need in terms of memory allocation. A problem can have multiple solutions and finding the optimal solution for the problem needs to be analyzed in time and space.\n",
    "\n",
    "#### How do we measure Time and Space Complexity?\n",
    "\n",
    "In order to measure time and space complexity we use Asymptotic analysis. The reason for this is because we need a way to measure different algorithms (functions) based on the size of their inputs in a mathmatical way. For example, we could have a function that is computed as f(n) and another that is g(n^2). All things around the function staying constant, the only thing that changes is the size of the input. Below is the chart that shows the different Asymptotic analysis formats. "
   ]
  },
  {
   "cell_type": "markdown",
   "metadata": {},
   "source": [
    "<table style=\"text-align:center;\" class=\"table table-bordered\">\n",
    "<tbody><tr>\n",
    "<td>constant</td>\n",
    "<td>−</td>\n",
    "<td>Ο(1)</td>\n",
    "</tr>\n",
    "<tr>\n",
    "<td>logarithmic</td>\n",
    "<td>−</td>\n",
    "<td>Ο(log n)</td>\n",
    "</tr>\n",
    "<tr>\n",
    "<td>linear</td>\n",
    "<td>−</td>\n",
    "<td>Ο(n)</td>\n",
    "</tr>\n",
    "<tr>\n",
    "<td>Linear Logarithmic</td>\n",
    "<td>−</td>\n",
    "<td>Ο(n log n)</td>\n",
    "</tr>\n",
    "<tr>\n",
    "<td>quadratic</td>\n",
    "<td>−</td>\n",
    "<td>Ο(n<sup>2</sup>)</td>\n",
    "</tr>\n",
    "<tr>\n",
    "<td>cubic</td>\n",
    "<td>−</td>\n",
    "<td>Ο(n<sup>3</sup>)</td>\n",
    "</tr>\n",
    "<tr>\n",
    "<td>polynomial</td>\n",
    "<td>−</td>\n",
    "<td>n<sup>Ο(1)</sup></td>\n",
    "</tr>\n",
    "<tr>\n",
    "<td>exponential</td>\n",
    "<td>−</td>\n",
    "<td>2<sup>Ο(n)</sup></td>\n",
    "</tr>\n",
    "</tbody></table>"
   ]
  },
  {
   "cell_type": "code",
   "execution_count": null,
   "metadata": {},
   "outputs": [],
   "source": [
    "def some_function(n):\n",
    "    y = n[0] * 2 # 1 O(2)\n",
    "    for i in n: # 2 O(n)\n",
    "        print(i) # 3 O(1)\n",
    "    for x in n: # 4 O(n)\n",
    "        print(x**2) # 5 O(2)\n",
    "    return y # 6 O(1)\n",
    "\n",
    "# Big O = O(n)"
   ]
  },
  {
   "cell_type": "code",
   "execution_count": 8,
   "metadata": {},
   "outputs": [],
   "source": [
    "my_list = [5, 9, 2, 4, 44, 8, 2, 54, 23, 123, 5352, 435, 35, 345]\n",
    "new_list = sorted(my_list)"
   ]
  },
  {
   "cell_type": "code",
   "execution_count": 9,
   "metadata": {},
   "outputs": [
    {
     "data": {
      "text/plain": [
       "[2, 2, 4, 5, 8, 9, 23, 35, 44, 54, 123, 345, 435, 5352]"
      ]
     },
     "execution_count": 9,
     "metadata": {},
     "output_type": "execute_result"
    }
   ],
   "source": [
    "new_list"
   ]
  },
  {
   "cell_type": "markdown",
   "metadata": {},
   "source": [
    "## Arrays"
   ]
  },
  {
   "cell_type": "markdown",
   "metadata": {},
   "source": [
    "In python we benefit from the dynamic array which means the block of memory will expand as needed for the given input to the array. In traditional arrays (depending on the type of operating system) we will usually store our inputs in 4 or 8 consecutive blocks of memory. Below is a diagram of how that looks under the hood:\n",
    "\n",
    "<img src=\"http://www.mathcs.emory.edu/~cheung/Courses/170/Syllabus/09/FIGS/array02x.gif\" style=\"height:250px; width:350px;\">"
   ]
  },
  {
   "cell_type": "markdown",
   "metadata": {},
   "source": [
    "## Which in python looks like this:"
   ]
  },
  {
   "cell_type": "code",
   "execution_count": 10,
   "metadata": {},
   "outputs": [
    {
     "name": "stdout",
     "output_type": "stream",
     "text": [
      "[23, 4, 6, 15, 5, 7]\n"
     ]
    }
   ],
   "source": [
    "array = [23, 4, 6, 15, 5, 7]\n",
    "print(array)"
   ]
  },
  {
   "cell_type": "markdown",
   "metadata": {},
   "source": [
    "### Let's take a look at some of the time and space analysis of arrays"
   ]
  },
  {
   "cell_type": "code",
   "execution_count": 11,
   "metadata": {},
   "outputs": [
    {
     "name": "stdout",
     "output_type": "stream",
     "text": [
      "23\n",
      "4\n",
      "6\n",
      "15\n",
      "5\n",
      "7\n"
     ]
    }
   ],
   "source": [
    "# Indexing a list\n",
    "index = array[3] # Constant Time and Space - O(1)\n",
    "\n",
    "# Searching through a list\n",
    "for i in array: # Linear Time - O(n) / Constant Space - O(1)\n",
    "    print(i)\n",
    "    \n",
    "    \n",
    "# Making a copy of list\n",
    "list_copy = array[:] # Linear Time and Linear Space - O(n)\n",
    "\n",
    "\n",
    "# Setting an index value in a list\n",
    "array[2] = 10000 # Constant Time and Constant Space - O(1)"
   ]
  },
  {
   "cell_type": "markdown",
   "metadata": {},
   "source": [
    "## Stacks and Queues (Review)\n",
    "\n",
    "** Stacks ** as the name suggests is a data structure that allows for data to follow the Last In First Out priciple(LIFO). Think of a stack of pancakes for example. To get the first pancake you would  start with the top and go down.\n",
    "\n",
    "##### Searching through a stack will be Linear Time O(n) - Constant Space O(1)\n",
    "##### Selecting the last item will be done in Constant Time O(1) - Constant Space O(1)\n",
    "##### Adding to the stack should take Constant Time O(1) - Constant Space O(1)\n",
    "\n",
    "** Queues ** are similar but in this case follow the First In First Out principle(FIFO). Think of this as a line in a black friday sale. The first person camped out for the big screen tv is the first to get it.\n",
    "\n",
    "##### Searching through a queue will be Linear Time O(n) - Constant Space O(1)\n",
    "##### Selecting the first item will be done in Constant Time O(1) - Constant Space O(1)\n",
    "##### Adding to the queue should take Constant Time O(1) - Constant Space O(1)"
   ]
  },
  {
   "cell_type": "code",
   "execution_count": 13,
   "metadata": {},
   "outputs": [
    {
     "name": "stdout",
     "output_type": "stream",
     "text": [
      "[1, 2, 3, 4]\n",
      "4\n",
      "3\n",
      "[1, 2]\n"
     ]
    }
   ],
   "source": [
    "# Create a stack data structure\n",
    "my_stack = []\n",
    "\n",
    "# Add elements to our stack\n",
    "my_stack.append(1)\n",
    "my_stack.append(2)\n",
    "my_stack.append(3)\n",
    "my_stack.append(4)\n",
    "print(my_stack)\n",
    "# Retrieve elements from stack - LIFO\n",
    "last_element = my_stack.pop()\n",
    "print(last_element)\n",
    "\n",
    "# Retrieve elements from stack - LIFO\n",
    "last_element = my_stack.pop()\n",
    "print(last_element)\n",
    "\n",
    "print(my_stack)"
   ]
  },
  {
   "cell_type": "code",
   "execution_count": 15,
   "metadata": {},
   "outputs": [
    {
     "name": "stdout",
     "output_type": "stream",
     "text": [
      "['Brian', 'Tatyana', 'Joel', 'Derek']\n",
      "Brian\n",
      "Tatyana\n",
      "['Joel', 'Derek']\n"
     ]
    }
   ],
   "source": [
    "# Create a queue data structure\n",
    "my_queue = []\n",
    "\n",
    "# Add elements to our queue\n",
    "my_queue.append('Brian')\n",
    "my_queue.append('Tatyana')\n",
    "my_queue.append('Joel')\n",
    "my_queue.append('Derek')\n",
    "print(my_queue)\n",
    "\n",
    "# Retrieve elements from queue - FIFO\n",
    "first_element = my_queue.pop(0)\n",
    "print(first_element)\n",
    "\n",
    "# Retrieve elements from queue - FIFO\n",
    "first_element = my_queue.pop(0)\n",
    "print(first_element)\n",
    "\n",
    "print(my_queue)"
   ]
  },
  {
   "cell_type": "code",
   "execution_count": 21,
   "metadata": {},
   "outputs": [
    {
     "name": "stdout",
     "output_type": "stream",
     "text": [
      "deque([5, 1, 2, 3, 4])\n"
     ]
    },
    {
     "data": {
      "text/plain": [
       "5"
      ]
     },
     "execution_count": 21,
     "metadata": {},
     "output_type": "execute_result"
    }
   ],
   "source": [
    "from collections import deque\n",
    "\n",
    "stack_again = deque()\n",
    "\n",
    "# Add to\n",
    "stack_again.append(1)\n",
    "stack_again.append(2)\n",
    "stack_again.append(3)\n",
    "stack_again.append(4)\n",
    "stack_again.appendleft(5)\n",
    "print(stack_again)\n",
    "\n",
    "\n",
    "stack_again.popleft()"
   ]
  },
  {
   "cell_type": "markdown",
   "metadata": {},
   "source": [
    "## Linked List (Data Structure)\n",
    "\n",
    "A linked list is created by using the node class. We create a Node object and create another class to use this node object. We pass the appropriate values thorugh the node object to point the to the next data elements.\n",
    "\n",
    "There are some advantages and disadvantages with this data structure. **Advantages** Linked Lists can save memory because they can be flexibile with memory management which saves memory. **Disadvantages** Finding or adding to the list requires traversing the entire list."
   ]
  },
  {
   "cell_type": "code",
   "execution_count": 23,
   "metadata": {},
   "outputs": [
    {
     "name": "stdout",
     "output_type": "stream",
     "text": [
      "Mon\n",
      "Tues\n",
      "Wed\n"
     ]
    }
   ],
   "source": [
    "class LinkedListNode:\n",
    "    def __init__(self, value):\n",
    "        self.value = value\n",
    "        self.next = None\n",
    "        \n",
    "    def traverse_list(self):\n",
    "        node = self\n",
    "        while node != None:\n",
    "            print(node.value)\n",
    "            node = node.next\n",
    "            \n",
    "            \n",
    "node1 = LinkedListNode('Mon')\n",
    "node2 = LinkedListNode('Tues')\n",
    "node3 = LinkedListNode('Wed')\n",
    "\n",
    "node1.next = node2\n",
    "node2.next = node3\n",
    "\n",
    "node1.traverse_list()"
   ]
  },
  {
   "cell_type": "code",
   "execution_count": 18,
   "metadata": {},
   "outputs": [],
   "source": [
    "# Complete Implementation of Linked List\n",
    "\n",
    "# Node Class\n",
    "class Node:\n",
    "    def __init__(self, value):\n",
    "        self.value = value\n",
    "        self.next = None\n",
    "        \n",
    "# Linked List Class\n",
    "class LinkedList:\n",
    "    def __init__(self):\n",
    "        self.head = None\n",
    "        \n",
    "    # Method to add new node to the front of the linked list\n",
    "    def push_on(self, new_value):\n",
    "        new_node = Node(new_value)\n",
    "        new_node.next = self.head\n",
    "        self.head = new_node\n",
    "    \n",
    "    # Method to add new node to the end of the linked list\n",
    "    def append(self, new_value):\n",
    "        new_node = Node(new_value)\n",
    "        \n",
    "        # Check if the linked list is empty\n",
    "        if self.head is None:\n",
    "            self.head = new_node\n",
    "            \n",
    "        # if not empty\n",
    "        else:\n",
    "            last = self.head\n",
    "            # if the last value has a next value, continue traversing until the .next value is None\n",
    "            while last.next:\n",
    "                last = last.next\n",
    "            last.next = new_node\n",
    "    \n",
    "    # Method to add new node in the middle of the linked list\n",
    "    def insert_after(self, prev_node, new_value):\n",
    "        # Check if previous node even exists\n",
    "        if prev_node is None:\n",
    "            print('The given node must not be empty')\n",
    "            return\n",
    "        \n",
    "        new_node = Node(new_value)\n",
    "        \n",
    "        # Update the new node's next value to point to the previous node's next value\n",
    "        new_node.next = prev_node.next\n",
    "        \n",
    "        # Update the previous node's next to point to the new node\n",
    "        prev_node.next = new_node\n",
    "        \n",
    "    def find_node(self, value_to_find):\n",
    "        potential_node = self.head\n",
    "        while potential_node:\n",
    "            if potential_node.value == value_to_find:\n",
    "                return potential_node\n",
    "            potential_node = potential_node.next\n",
    "        return -1\n",
    "    \n",
    "    def traverse_list(self):\n",
    "        node = self.head\n",
    "        while node:\n",
    "            print(node.value)\n",
    "            node = node.next\n",
    "        \n",
    "        \n",
    "links = LinkedList()\n",
    "links.push_on(10)\n",
    "links.push_on(5)\n",
    "links.append(15)\n",
    "links.insert_after(links.head.next, 12)\n",
    "my_node = links.find_node(12)"
   ]
  },
  {
   "cell_type": "code",
   "execution_count": 19,
   "metadata": {},
   "outputs": [],
   "source": [
    "links.insert_after(my_node, 45)"
   ]
  },
  {
   "cell_type": "code",
   "execution_count": 20,
   "metadata": {},
   "outputs": [
    {
     "name": "stdout",
     "output_type": "stream",
     "text": [
      "5\n",
      "10\n",
      "12\n",
      "45\n",
      "15\n"
     ]
    }
   ],
   "source": [
    "links.traverse_list()"
   ]
  },
  {
   "cell_type": "code",
   "execution_count": 22,
   "metadata": {},
   "outputs": [
    {
     "name": "stdout",
     "output_type": "stream",
     "text": [
      "Sunday\n",
      "Monday\n",
      "Tuesday\n",
      "Wednesday\n"
     ]
    }
   ],
   "source": [
    "weekday_links = LinkedList()\n",
    "\n",
    "weekday_links.append('Tuesday')\n",
    "weekday_links.append('Wednesday')\n",
    "weekday_links.push_on('Sunday')\n",
    "weekday_links.insert_after(weekday_links.find_node('Sunday'), 'Monday')\n",
    "weekday_links.traverse_list()"
   ]
  },
  {
   "cell_type": "markdown",
   "metadata": {},
   "source": [
    "## Binary Search Trees"
   ]
  },
  {
   "cell_type": "code",
   "execution_count": 25,
   "metadata": {},
   "outputs": [],
   "source": [
    "class BinarySearchTree:\n",
    "    def __init__(self, value):\n",
    "        self.value = value \n",
    "        self.left = None\n",
    "        self.right = None\n",
    "        \n",
    "    def insert(self, value):\n",
    "        if value < self.value:\n",
    "            if self.left is None:\n",
    "                self.left = BinarySearchTree(value)\n",
    "            else:\n",
    "                self.left.insert(value)\n",
    "        else:\n",
    "            if self.right is None:\n",
    "                self.right = BinarySearchTree(value)\n",
    "            else:\n",
    "                self.right.insert(value)\n",
    "                \n",
    "    def find(self, value):\n",
    "        if value < self.value:\n",
    "            if self.left is None:\n",
    "                return False\n",
    "            else:\n",
    "                return self.left.find(value)\n",
    "        elif value > self.value:\n",
    "            if self.right is None:\n",
    "                return False\n",
    "            else:\n",
    "                self.right.find(value)\n",
    "        else:\n",
    "            return self\n",
    "        \n",
    "    def get_max_value(self):\n",
    "        if self.right is None:\n",
    "            return self.value\n",
    "        else:\n",
    "            return self.right.get_max_value()\n",
    "    \n",
    "    def remove(self, value, parent=None):\n",
    "        if value < self.value:\n",
    "            if self.left is not None:\n",
    "                self.left.remove(value, self)\n",
    "        elif value > self.value:\n",
    "            if self.right is not None:\n",
    "                self.right.remove(value, self)\n",
    "        else:\n",
    "            if self.left is not None and self.right is not None:\n",
    "                self.value = self.left.get_max_value()\n",
    "                self.left.remove(self.value, self)\n",
    "            elif parent is None:\n",
    "                if self.left is not None:\n",
    "                    self.value = self.left.value\n",
    "                    self.right = self.left.right\n",
    "                    self.left = self.left.left\n",
    "                elif self.right is not None:\n",
    "                    self.value = self.right.value\n",
    "                    self.right = self.right.right\n",
    "                    self.left = self.right.left\n",
    "                else:\n",
    "                    self.value = None\n",
    "            elif parent.left == self:\n",
    "                parent.left = self.left if self.left is not None else self.right\n",
    "            elif parent.right == self:\n",
    "                parent.right = self.left if self.left is not None else self.right\n",
    "                \n",
    "        return self\n"
   ]
  },
  {
   "cell_type": "code",
   "execution_count": 26,
   "metadata": {},
   "outputs": [],
   "source": [
    "my_tree = BinarySearchTree(50)\n",
    "\n",
    "import random\n",
    "\n",
    "random_list = [random.randint(1,100) for i in range(50)]\n",
    "for i in random_list:\n",
    "    my_tree.insert(i)"
   ]
  },
  {
   "cell_type": "code",
   "execution_count": 28,
   "metadata": {},
   "outputs": [
    {
     "name": "stdout",
     "output_type": "stream",
     "text": [
      "[79, 4, 63, 82, 11, 2, 24, 4, 34, 47, 52, 58, 64, 64, 93, 79, 32, 31, 23, 92, 82, 85, 65, 32, 98, 51, 49, 68, 86, 12, 21, 53, 69, 27, 27, 44, 12, 39, 60, 9, 93, 94, 43, 54, 67, 99, 21, 3, 13, 57]\n"
     ]
    }
   ],
   "source": [
    "print(random_list)"
   ]
  },
  {
   "cell_type": "markdown",
   "metadata": {},
   "source": [
    "# Homework"
   ]
  },
  {
   "cell_type": "markdown",
   "metadata": {},
   "source": [
    "#### Problem 1: Linked Lists\n",
    "\n",
    "Using the above examples as a guide, create your own interpretation of the a Linked List class. You can not use the code above exactly, but again it can be used as a guide. This problem requires you to think about how a linked list works and create one using your own logic.\n",
    "\n",
    "*Remember* A Linked List is a list of Nodes that point to the next node in the chain. The first Node starts out as Empty(None) and each node after points to the next.\n",
    "\n",
    "Your Linked List should have a traverse method and have the ability to add a new node"
   ]
  },
  {
   "cell_type": "code",
   "execution_count": null,
   "metadata": {},
   "outputs": [],
   "source": []
  },
  {
   "cell_type": "markdown",
   "metadata": {},
   "source": [
    "#### Problem 2: Binary Search Tree\n",
    "\n",
    "Using the above examples as a guide, create your own interpretation of the a Binary Search Tree class. You can not use the code above exactly, but again it can be used as a guide. This problem requires you to think about how a Binary Search Tree works and create one using your own logic.\n",
    "\n",
    "*Remember* Binary Search Trees start with a head node and each node to the left of that will be smaller, each node to the right of it will be greater. The far left node should be the lowest number(if one exists) that is available. The far right node (if one exists) should be the greatest number"
   ]
  },
  {
   "cell_type": "code",
   "execution_count": null,
   "metadata": {},
   "outputs": [],
   "source": []
  }
 ],
 "metadata": {
  "kernelspec": {
   "display_name": "Python 3",
   "language": "python",
   "name": "python3"
  },
  "language_info": {
   "codemirror_mode": {
    "name": "ipython",
    "version": 3
   },
   "file_extension": ".py",
   "mimetype": "text/x-python",
   "name": "python",
   "nbconvert_exporter": "python",
   "pygments_lexer": "ipython3",
   "version": "3.8.5"
  }
 },
 "nbformat": 4,
 "nbformat_minor": 2
}
